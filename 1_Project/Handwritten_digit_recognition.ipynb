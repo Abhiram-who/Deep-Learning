{
 "cells": [
  {
   "cell_type": "code",
   "execution_count": 1,
   "metadata": {},
   "outputs": [],
   "source": [
    "from torchvision import  datasets\n",
    "from torchvision.transforms import ToTensor"
   ]
  },
  {
   "cell_type": "code",
   "execution_count": 7,
   "metadata": {},
   "outputs": [],
   "source": [
    "# Importing Data\n",
    "train_data = datasets.MNIST(\n",
    "    root=\"data\",\n",
    "    train=True,\n",
    "    transform=ToTensor(),\n",
    "    download=True\n",
    ")\n",
    "\n",
    "test_data = datasets.MNIST(\n",
    "    root=\"data\",\n",
    "    train=False,\n",
    "    transform=ToTensor(),\n",
    "    download=True\n",
    ")"
   ]
  },
  {
   "cell_type": "code",
   "execution_count": 8,
   "metadata": {},
   "outputs": [
    {
     "data": {
      "text/plain": [
       "Dataset MNIST\n",
       "    Number of datapoints: 60000\n",
       "    Root location: data\n",
       "    Split: Train\n",
       "    StandardTransform\n",
       "Transform: ToTensor()"
      ]
     },
     "execution_count": 8,
     "metadata": {},
     "output_type": "execute_result"
    }
   ],
   "source": [
    "train_data"
   ]
  },
  {
   "cell_type": "code",
   "execution_count": 4,
   "metadata": {},
   "outputs": [
    {
     "data": {
      "text/plain": [
       "Dataset MNIST\n",
       "    Number of datapoints: 10000\n",
       "    Root location: data\n",
       "    Split: Test\n",
       "    StandardTransform\n",
       "Transform: ToTensor()"
      ]
     },
     "execution_count": 4,
     "metadata": {},
     "output_type": "execute_result"
    }
   ],
   "source": [
    "test_data"
   ]
  },
  {
   "cell_type": "code",
   "execution_count": 5,
   "metadata": {},
   "outputs": [
    {
     "data": {
      "text/plain": [
       "torch.Size([60000, 28, 28])"
      ]
     },
     "execution_count": 5,
     "metadata": {},
     "output_type": "execute_result"
    }
   ],
   "source": [
    "train_data.data.shape"
   ]
  },
  {
   "cell_type": "code",
   "execution_count": 6,
   "metadata": {},
   "outputs": [
    {
     "data": {
      "text/plain": [
       "tensor([5, 0, 4,  ..., 5, 6, 8])"
      ]
     },
     "execution_count": 6,
     "metadata": {},
     "output_type": "execute_result"
    }
   ],
   "source": [
    "train_data.targets"
   ]
  },
  {
   "cell_type": "code",
   "execution_count": 9,
   "metadata": {},
   "outputs": [],
   "source": [
    "# Data Loaders\n",
    "from torch.utils.data import DataLoader\n",
    "\n",
    "loaders={\n",
    "    \"train\": DataLoader(train_data, batch_size=100, shuffle=True, num_workers=1),\n",
    "    \"test\": DataLoader(test_data, batch_size=100, shuffle=True, num_workers=1)\n",
    "}"
   ]
  },
  {
   "cell_type": "code",
   "execution_count": 10,
   "metadata": {},
   "outputs": [
    {
     "data": {
      "text/plain": [
       "{'train': <torch.utils.data.dataloader.DataLoader at 0x1418103a900>,\n",
       " 'test': <torch.utils.data.dataloader.DataLoader at 0x141830ec8f0>}"
      ]
     },
     "execution_count": 10,
     "metadata": {},
     "output_type": "execute_result"
    }
   ],
   "source": [
    "loaders"
   ]
  },
  {
   "cell_type": "code",
   "execution_count": 14,
   "metadata": {},
   "outputs": [],
   "source": [
    "# Model Architecture\n",
    "\n",
    "import torch.nn as nn\n",
    "import torch.nn.functional as F\n",
    "import torch.optim as optim\n",
    "\n",
    "class CNN(nn.Module):\n",
    "\n",
    "    def __init__(self):\n",
    "        super(CNN, self).__init__()\n",
    "        self.conv1 = nn.Conv2d(1, 10, kernel_size=5)\n",
    "        self.conv2 = nn.Conv2d(10, 20, kernel_size=5)\n",
    "        self.conv2_drop= nn.Dropout2d()\n",
    "        self.fc1 = nn.Linear(320, 50)\n",
    "        self.fc2 = nn.Linear(50, 10)\n",
    "\n",
    "    def forward(self, x):\n",
    "        x= F.relu(F.max_pool2d(self.conv1(x), 2))\n",
    "        x= F.relu(F.max_pool2d(self.conv2_drop(self.conv2(x)), 2))\n",
    "        x= x.view(-1, 320)\n",
    "        x= F.relu(self.fc1(x))\n",
    "        x= F.dropout(x, training=self.training)\n",
    "        x=self.fc2(x)\n",
    "\n",
    "        return F.softmax(x)\n",
    "    "
   ]
  },
  {
   "cell_type": "code",
   "execution_count": 15,
   "metadata": {},
   "outputs": [],
   "source": [
    "#Training the Model\n",
    "\n",
    "import torch\n",
    "\n",
    "device= torch.device('cuda' if torch.cuda.is_available() else 'cpu')\n",
    "\n",
    "model= CNN().to(device)\n",
    "\n",
    "optimizer= optim.Adam(model.parameters(), lr=0.001)\n",
    "\n",
    "loss_fn= nn.CrossEntropyLoss()\n",
    "\n",
    "def train(epoch):\n",
    "    model.train()\n",
    "    for batch_idx, (data, target) in enumerate(loaders['train']):\n",
    "        data, target= data.to(device), target.to(device)\n",
    "        optimizer.zero_grad()\n",
    "        output= model(data)\n",
    "        loss= loss_fn(output, target)\n",
    "        loss.backward()\n",
    "        optimizer.step()\n",
    "        if batch_idx % 20 == 0:\n",
    "            print(f'Train Epoch: {epoch} [{batch_idx * len(data)}/{len(loaders[\"train\"].dataset)} ({100. * batch_idx/ len(loaders[\"train\"]):.0f}%)] \\t{loss.item():0.6f}')\n",
    "\n",
    "\n",
    "def test():\n",
    "    model.eval()\n",
    "    test_loss= 0\n",
    "    correct= 0\n",
    "\n",
    "    with torch.no_grad():\n",
    "        for data, target in loaders['test']:\n",
    "            data, target= data.to(device), target.to(device)\n",
    "            output= model(data)\n",
    "            test_loss+= loss_fn(output, target).item()\n",
    "            pred= output.argmax(dim=1, keepdim=True)\n",
    "            correct+= pred.eq(target.view_as(pred)).sum().item()\n",
    "\n",
    "    test_loss/= len(loaders['test'].dataset)\n",
    "    print(f'\\nTest set: Average loss: {test_loss:.4f}, Accuracy: {correct}/{len(loaders[\"test\"].dataset)} ({100. * correct/ len(loaders[\"test\"].dataset):.0f}%)\\n')\n"
   ]
  },
  {
   "cell_type": "code",
   "execution_count": 16,
   "metadata": {},
   "outputs": [
    {
     "name": "stderr",
     "output_type": "stream",
     "text": [
      "C:\\Users\\ZONE\\AppData\\Local\\Temp\\ipykernel_4144\\3850629177.py:25: UserWarning: Implicit dimension choice for softmax has been deprecated. Change the call to include dim=X as an argument.\n",
      "  return F.softmax(x)\n"
     ]
    },
    {
     "name": "stdout",
     "output_type": "stream",
     "text": [
      "Train Epoch: 1 [0/60000 (0%)] \t2.302526\n",
      "Train Epoch: 1 [2000/60000 (3%)] \t2.292472\n",
      "Train Epoch: 1 [4000/60000 (7%)] \t2.192063\n",
      "Train Epoch: 1 [6000/60000 (10%)] \t2.002323\n",
      "Train Epoch: 1 [8000/60000 (13%)] \t1.871534\n",
      "Train Epoch: 1 [10000/60000 (17%)] \t1.780292\n",
      "Train Epoch: 1 [12000/60000 (20%)] \t1.759990\n",
      "Train Epoch: 1 [14000/60000 (23%)] \t1.795020\n",
      "Train Epoch: 1 [16000/60000 (27%)] \t1.770849\n",
      "Train Epoch: 1 [18000/60000 (30%)] \t1.697128\n",
      "Train Epoch: 1 [20000/60000 (33%)] \t1.729069\n",
      "Train Epoch: 1 [22000/60000 (37%)] \t1.712193\n",
      "Train Epoch: 1 [24000/60000 (40%)] \t1.634832\n",
      "Train Epoch: 1 [26000/60000 (43%)] \t1.643689\n",
      "Train Epoch: 1 [28000/60000 (47%)] \t1.685393\n",
      "Train Epoch: 1 [30000/60000 (50%)] \t1.677029\n",
      "Train Epoch: 1 [32000/60000 (53%)] \t1.667165\n",
      "Train Epoch: 1 [34000/60000 (57%)] \t1.696967\n",
      "Train Epoch: 1 [36000/60000 (60%)] \t1.659959\n",
      "Train Epoch: 1 [38000/60000 (63%)] \t1.675024\n",
      "Train Epoch: 1 [40000/60000 (67%)] \t1.649504\n",
      "Train Epoch: 1 [42000/60000 (70%)] \t1.665028\n",
      "Train Epoch: 1 [44000/60000 (73%)] \t1.600091\n",
      "Train Epoch: 1 [46000/60000 (77%)] \t1.655641\n",
      "Train Epoch: 1 [48000/60000 (80%)] \t1.722532\n",
      "Train Epoch: 1 [50000/60000 (83%)] \t1.602771\n",
      "Train Epoch: 1 [52000/60000 (87%)] \t1.641119\n",
      "Train Epoch: 1 [54000/60000 (90%)] \t1.647372\n",
      "Train Epoch: 1 [56000/60000 (93%)] \t1.611794\n",
      "Train Epoch: 1 [58000/60000 (97%)] \t1.594646\n",
      "\n",
      "Test set: Average loss: 0.0153, Accuracy: 9312/10000 (93%)\n",
      "\n",
      "Train Epoch: 2 [0/60000 (0%)] \t1.600276\n",
      "Train Epoch: 2 [2000/60000 (3%)] \t1.657111\n",
      "Train Epoch: 2 [4000/60000 (7%)] \t1.594375\n",
      "Train Epoch: 2 [6000/60000 (10%)] \t1.595536\n",
      "Train Epoch: 2 [8000/60000 (13%)] \t1.588598\n",
      "Train Epoch: 2 [10000/60000 (17%)] \t1.612273\n",
      "Train Epoch: 2 [12000/60000 (20%)] \t1.582133\n",
      "Train Epoch: 2 [14000/60000 (23%)] \t1.640166\n",
      "Train Epoch: 2 [16000/60000 (27%)] \t1.560656\n",
      "Train Epoch: 2 [18000/60000 (30%)] \t1.679786\n",
      "Train Epoch: 2 [20000/60000 (33%)] \t1.582678\n",
      "Train Epoch: 2 [22000/60000 (37%)] \t1.589834\n",
      "Train Epoch: 2 [24000/60000 (40%)] \t1.608011\n",
      "Train Epoch: 2 [26000/60000 (43%)] \t1.670273\n",
      "Train Epoch: 2 [28000/60000 (47%)] \t1.582741\n",
      "Train Epoch: 2 [30000/60000 (50%)] \t1.624945\n",
      "Train Epoch: 2 [32000/60000 (53%)] \t1.573257\n",
      "Train Epoch: 2 [34000/60000 (57%)] \t1.596088\n",
      "Train Epoch: 2 [36000/60000 (60%)] \t1.603284\n",
      "Train Epoch: 2 [38000/60000 (63%)] \t1.569795\n",
      "Train Epoch: 2 [40000/60000 (67%)] \t1.599436\n",
      "Train Epoch: 2 [42000/60000 (70%)] \t1.587466\n",
      "Train Epoch: 2 [44000/60000 (73%)] \t1.581299\n",
      "Train Epoch: 2 [46000/60000 (77%)] \t1.597937\n",
      "Train Epoch: 2 [48000/60000 (80%)] \t1.600314\n",
      "Train Epoch: 2 [50000/60000 (83%)] \t1.595219\n",
      "Train Epoch: 2 [52000/60000 (87%)] \t1.603257\n",
      "Train Epoch: 2 [54000/60000 (90%)] \t1.546550\n",
      "Train Epoch: 2 [56000/60000 (93%)] \t1.598067\n",
      "Train Epoch: 2 [58000/60000 (97%)] \t1.544248\n",
      "\n",
      "Test set: Average loss: 0.0151, Accuracy: 9503/10000 (95%)\n",
      "\n",
      "Train Epoch: 3 [0/60000 (0%)] \t1.601842\n",
      "Train Epoch: 3 [2000/60000 (3%)] \t1.592784\n",
      "Train Epoch: 3 [4000/60000 (7%)] \t1.539021\n",
      "Train Epoch: 3 [6000/60000 (10%)] \t1.586890\n",
      "Train Epoch: 3 [8000/60000 (13%)] \t1.532773\n",
      "Train Epoch: 3 [10000/60000 (17%)] \t1.607115\n",
      "Train Epoch: 3 [12000/60000 (20%)] \t1.549659\n",
      "Train Epoch: 3 [14000/60000 (23%)] \t1.633073\n",
      "Train Epoch: 3 [16000/60000 (27%)] \t1.625601\n",
      "Train Epoch: 3 [18000/60000 (30%)] \t1.563812\n",
      "Train Epoch: 3 [20000/60000 (33%)] \t1.560293\n",
      "Train Epoch: 3 [22000/60000 (37%)] \t1.566512\n",
      "Train Epoch: 3 [24000/60000 (40%)] \t1.653372\n",
      "Train Epoch: 3 [26000/60000 (43%)] \t1.587602\n",
      "Train Epoch: 3 [28000/60000 (47%)] \t1.611552\n",
      "Train Epoch: 3 [30000/60000 (50%)] \t1.575089\n",
      "Train Epoch: 3 [32000/60000 (53%)] \t1.600143\n",
      "Train Epoch: 3 [34000/60000 (57%)] \t1.587888\n",
      "Train Epoch: 3 [36000/60000 (60%)] \t1.569715\n",
      "Train Epoch: 3 [38000/60000 (63%)] \t1.544580\n",
      "Train Epoch: 3 [40000/60000 (67%)] \t1.601674\n",
      "Train Epoch: 3 [42000/60000 (70%)] \t1.593288\n",
      "Train Epoch: 3 [44000/60000 (73%)] \t1.539275\n",
      "Train Epoch: 3 [46000/60000 (77%)] \t1.549755\n",
      "Train Epoch: 3 [48000/60000 (80%)] \t1.574229\n",
      "Train Epoch: 3 [50000/60000 (83%)] \t1.527403\n",
      "Train Epoch: 3 [52000/60000 (87%)] \t1.534397\n",
      "Train Epoch: 3 [54000/60000 (90%)] \t1.553042\n",
      "Train Epoch: 3 [56000/60000 (93%)] \t1.565644\n",
      "Train Epoch: 3 [58000/60000 (97%)] \t1.565608\n",
      "\n",
      "Test set: Average loss: 0.0151, Accuracy: 9558/10000 (96%)\n",
      "\n",
      "Train Epoch: 4 [0/60000 (0%)] \t1.589093\n",
      "Train Epoch: 4 [2000/60000 (3%)] \t1.535322\n",
      "Train Epoch: 4 [4000/60000 (7%)] \t1.560257\n",
      "Train Epoch: 4 [6000/60000 (10%)] \t1.580067\n",
      "Train Epoch: 4 [8000/60000 (13%)] \t1.553508\n",
      "Train Epoch: 4 [10000/60000 (17%)] \t1.553087\n",
      "Train Epoch: 4 [12000/60000 (20%)] \t1.538092\n",
      "Train Epoch: 4 [14000/60000 (23%)] \t1.527314\n",
      "Train Epoch: 4 [16000/60000 (27%)] \t1.532702\n",
      "Train Epoch: 4 [18000/60000 (30%)] \t1.532345\n",
      "Train Epoch: 4 [20000/60000 (33%)] \t1.530570\n",
      "Train Epoch: 4 [22000/60000 (37%)] \t1.533155\n",
      "Train Epoch: 4 [24000/60000 (40%)] \t1.572836\n",
      "Train Epoch: 4 [26000/60000 (43%)] \t1.545710\n",
      "Train Epoch: 4 [28000/60000 (47%)] \t1.517179\n",
      "Train Epoch: 4 [30000/60000 (50%)] \t1.571707\n",
      "Train Epoch: 4 [32000/60000 (53%)] \t1.558797\n",
      "Train Epoch: 4 [34000/60000 (57%)] \t1.556006\n",
      "Train Epoch: 4 [36000/60000 (60%)] \t1.510687\n",
      "Train Epoch: 4 [38000/60000 (63%)] \t1.560387\n",
      "Train Epoch: 4 [40000/60000 (67%)] \t1.543283\n",
      "Train Epoch: 4 [42000/60000 (70%)] \t1.561453\n",
      "Train Epoch: 4 [44000/60000 (73%)] \t1.546931\n",
      "Train Epoch: 4 [46000/60000 (77%)] \t1.582334\n",
      "Train Epoch: 4 [48000/60000 (80%)] \t1.527480\n",
      "Train Epoch: 4 [50000/60000 (83%)] \t1.616620\n",
      "Train Epoch: 4 [52000/60000 (87%)] \t1.554780\n",
      "Train Epoch: 4 [54000/60000 (90%)] \t1.511881\n",
      "Train Epoch: 4 [56000/60000 (93%)] \t1.590986\n",
      "Train Epoch: 4 [58000/60000 (97%)] \t1.594980\n",
      "\n",
      "Test set: Average loss: 0.0150, Accuracy: 9607/10000 (96%)\n",
      "\n",
      "Train Epoch: 5 [0/60000 (0%)] \t1.532651\n",
      "Train Epoch: 5 [2000/60000 (3%)] \t1.577109\n",
      "Train Epoch: 5 [4000/60000 (7%)] \t1.562121\n",
      "Train Epoch: 5 [6000/60000 (10%)] \t1.603990\n",
      "Train Epoch: 5 [8000/60000 (13%)] \t1.563147\n",
      "Train Epoch: 5 [10000/60000 (17%)] \t1.575114\n",
      "Train Epoch: 5 [12000/60000 (20%)] \t1.584077\n",
      "Train Epoch: 5 [14000/60000 (23%)] \t1.533217\n",
      "Train Epoch: 5 [16000/60000 (27%)] \t1.547798\n",
      "Train Epoch: 5 [18000/60000 (30%)] \t1.584962\n",
      "Train Epoch: 5 [20000/60000 (33%)] \t1.593939\n",
      "Train Epoch: 5 [22000/60000 (37%)] \t1.549011\n",
      "Train Epoch: 5 [24000/60000 (40%)] \t1.556154\n",
      "Train Epoch: 5 [26000/60000 (43%)] \t1.572497\n",
      "Train Epoch: 5 [28000/60000 (47%)] \t1.571028\n",
      "Train Epoch: 5 [30000/60000 (50%)] \t1.543533\n",
      "Train Epoch: 5 [32000/60000 (53%)] \t1.563787\n",
      "Train Epoch: 5 [34000/60000 (57%)] \t1.553395\n",
      "Train Epoch: 5 [36000/60000 (60%)] \t1.561690\n",
      "Train Epoch: 5 [38000/60000 (63%)] \t1.540841\n",
      "Train Epoch: 5 [40000/60000 (67%)] \t1.580995\n",
      "Train Epoch: 5 [42000/60000 (70%)] \t1.574899\n",
      "Train Epoch: 5 [44000/60000 (73%)] \t1.567416\n",
      "Train Epoch: 5 [46000/60000 (77%)] \t1.586443\n",
      "Train Epoch: 5 [48000/60000 (80%)] \t1.544685\n",
      "Train Epoch: 5 [50000/60000 (83%)] \t1.489706\n",
      "Train Epoch: 5 [52000/60000 (87%)] \t1.549991\n",
      "Train Epoch: 5 [54000/60000 (90%)] \t1.591499\n",
      "Train Epoch: 5 [56000/60000 (93%)] \t1.559228\n",
      "Train Epoch: 5 [58000/60000 (97%)] \t1.533118\n",
      "\n",
      "Test set: Average loss: 0.0150, Accuracy: 9632/10000 (96%)\n",
      "\n",
      "Train Epoch: 6 [0/60000 (0%)] \t1.549760\n",
      "Train Epoch: 6 [2000/60000 (3%)] \t1.555284\n",
      "Train Epoch: 6 [4000/60000 (7%)] \t1.566001\n",
      "Train Epoch: 6 [6000/60000 (10%)] \t1.548107\n",
      "Train Epoch: 6 [8000/60000 (13%)] \t1.566838\n",
      "Train Epoch: 6 [10000/60000 (17%)] \t1.577219\n",
      "Train Epoch: 6 [12000/60000 (20%)] \t1.534551\n",
      "Train Epoch: 6 [14000/60000 (23%)] \t1.516339\n",
      "Train Epoch: 6 [16000/60000 (27%)] \t1.574998\n",
      "Train Epoch: 6 [18000/60000 (30%)] \t1.544850\n",
      "Train Epoch: 6 [20000/60000 (33%)] \t1.505835\n",
      "Train Epoch: 6 [22000/60000 (37%)] \t1.524449\n",
      "Train Epoch: 6 [24000/60000 (40%)] \t1.586877\n",
      "Train Epoch: 6 [26000/60000 (43%)] \t1.535563\n",
      "Train Epoch: 6 [28000/60000 (47%)] \t1.582279\n",
      "Train Epoch: 6 [30000/60000 (50%)] \t1.540487\n",
      "Train Epoch: 6 [32000/60000 (53%)] \t1.586776\n",
      "Train Epoch: 6 [34000/60000 (57%)] \t1.528869\n",
      "Train Epoch: 6 [36000/60000 (60%)] \t1.584691\n",
      "Train Epoch: 6 [38000/60000 (63%)] \t1.535527\n",
      "Train Epoch: 6 [40000/60000 (67%)] \t1.498921\n",
      "Train Epoch: 6 [42000/60000 (70%)] \t1.523896\n",
      "Train Epoch: 6 [44000/60000 (73%)] \t1.568633\n",
      "Train Epoch: 6 [46000/60000 (77%)] \t1.582850\n",
      "Train Epoch: 6 [48000/60000 (80%)] \t1.518500\n",
      "Train Epoch: 6 [50000/60000 (83%)] \t1.547428\n",
      "Train Epoch: 6 [52000/60000 (87%)] \t1.536283\n",
      "Train Epoch: 6 [54000/60000 (90%)] \t1.510537\n",
      "Train Epoch: 6 [56000/60000 (93%)] \t1.554505\n",
      "Train Epoch: 6 [58000/60000 (97%)] \t1.491967\n",
      "\n",
      "Test set: Average loss: 0.0150, Accuracy: 9653/10000 (97%)\n",
      "\n",
      "Train Epoch: 7 [0/60000 (0%)] \t1.544333\n",
      "Train Epoch: 7 [2000/60000 (3%)] \t1.521301\n",
      "Train Epoch: 7 [4000/60000 (7%)] \t1.510056\n",
      "Train Epoch: 7 [6000/60000 (10%)] \t1.513479\n",
      "Train Epoch: 7 [8000/60000 (13%)] \t1.507990\n",
      "Train Epoch: 7 [10000/60000 (17%)] \t1.544305\n",
      "Train Epoch: 7 [12000/60000 (20%)] \t1.535448\n",
      "Train Epoch: 7 [14000/60000 (23%)] \t1.562806\n",
      "Train Epoch: 7 [16000/60000 (27%)] \t1.529564\n",
      "Train Epoch: 7 [18000/60000 (30%)] \t1.544430\n",
      "Train Epoch: 7 [20000/60000 (33%)] \t1.572139\n",
      "Train Epoch: 7 [22000/60000 (37%)] \t1.536807\n",
      "Train Epoch: 7 [24000/60000 (40%)] \t1.523429\n",
      "Train Epoch: 7 [26000/60000 (43%)] \t1.549574\n",
      "Train Epoch: 7 [28000/60000 (47%)] \t1.552435\n",
      "Train Epoch: 7 [30000/60000 (50%)] \t1.554750\n",
      "Train Epoch: 7 [32000/60000 (53%)] \t1.494970\n",
      "Train Epoch: 7 [34000/60000 (57%)] \t1.519967\n",
      "Train Epoch: 7 [36000/60000 (60%)] \t1.527010\n",
      "Train Epoch: 7 [38000/60000 (63%)] \t1.562607\n",
      "Train Epoch: 7 [40000/60000 (67%)] \t1.565789\n",
      "Train Epoch: 7 [42000/60000 (70%)] \t1.501885\n",
      "Train Epoch: 7 [44000/60000 (73%)] \t1.516995\n",
      "Train Epoch: 7 [46000/60000 (77%)] \t1.503274\n",
      "Train Epoch: 7 [48000/60000 (80%)] \t1.532034\n",
      "Train Epoch: 7 [50000/60000 (83%)] \t1.524462\n",
      "Train Epoch: 7 [52000/60000 (87%)] \t1.509254\n",
      "Train Epoch: 7 [54000/60000 (90%)] \t1.570123\n",
      "Train Epoch: 7 [56000/60000 (93%)] \t1.532954\n",
      "Train Epoch: 7 [58000/60000 (97%)] \t1.544564\n",
      "\n",
      "Test set: Average loss: 0.0149, Accuracy: 9671/10000 (97%)\n",
      "\n",
      "Train Epoch: 8 [0/60000 (0%)] \t1.574650\n",
      "Train Epoch: 8 [2000/60000 (3%)] \t1.538319\n",
      "Train Epoch: 8 [4000/60000 (7%)] \t1.517528\n",
      "Train Epoch: 8 [6000/60000 (10%)] \t1.561689\n",
      "Train Epoch: 8 [8000/60000 (13%)] \t1.507349\n",
      "Train Epoch: 8 [10000/60000 (17%)] \t1.538676\n",
      "Train Epoch: 8 [12000/60000 (20%)] \t1.518507\n",
      "Train Epoch: 8 [14000/60000 (23%)] \t1.524679\n",
      "Train Epoch: 8 [16000/60000 (27%)] \t1.500612\n",
      "Train Epoch: 8 [18000/60000 (30%)] \t1.520298\n",
      "Train Epoch: 8 [20000/60000 (33%)] \t1.544020\n",
      "Train Epoch: 8 [22000/60000 (37%)] \t1.542747\n",
      "Train Epoch: 8 [24000/60000 (40%)] \t1.552400\n",
      "Train Epoch: 8 [26000/60000 (43%)] \t1.552219\n",
      "Train Epoch: 8 [28000/60000 (47%)] \t1.547692\n",
      "Train Epoch: 8 [30000/60000 (50%)] \t1.493993\n",
      "Train Epoch: 8 [32000/60000 (53%)] \t1.562351\n",
      "Train Epoch: 8 [34000/60000 (57%)] \t1.547068\n",
      "Train Epoch: 8 [36000/60000 (60%)] \t1.533716\n",
      "Train Epoch: 8 [38000/60000 (63%)] \t1.526427\n",
      "Train Epoch: 8 [40000/60000 (67%)] \t1.559143\n",
      "Train Epoch: 8 [42000/60000 (70%)] \t1.535582\n",
      "Train Epoch: 8 [44000/60000 (73%)] \t1.513019\n",
      "Train Epoch: 8 [46000/60000 (77%)] \t1.530609\n",
      "Train Epoch: 8 [48000/60000 (80%)] \t1.502381\n",
      "Train Epoch: 8 [50000/60000 (83%)] \t1.558525\n",
      "Train Epoch: 8 [52000/60000 (87%)] \t1.562405\n",
      "Train Epoch: 8 [54000/60000 (90%)] \t1.578847\n",
      "Train Epoch: 8 [56000/60000 (93%)] \t1.520276\n",
      "Train Epoch: 8 [58000/60000 (97%)] \t1.499604\n",
      "\n",
      "Test set: Average loss: 0.0149, Accuracy: 9685/10000 (97%)\n",
      "\n",
      "Train Epoch: 9 [0/60000 (0%)] \t1.540270\n",
      "Train Epoch: 9 [2000/60000 (3%)] \t1.539806\n",
      "Train Epoch: 9 [4000/60000 (7%)] \t1.504751\n",
      "Train Epoch: 9 [6000/60000 (10%)] \t1.525500\n",
      "Train Epoch: 9 [8000/60000 (13%)] \t1.518413\n",
      "Train Epoch: 9 [10000/60000 (17%)] \t1.560648\n",
      "Train Epoch: 9 [12000/60000 (20%)] \t1.544228\n",
      "Train Epoch: 9 [14000/60000 (23%)] \t1.530180\n",
      "Train Epoch: 9 [16000/60000 (27%)] \t1.521781\n",
      "Train Epoch: 9 [18000/60000 (30%)] \t1.532071\n",
      "Train Epoch: 9 [20000/60000 (33%)] \t1.559982\n",
      "Train Epoch: 9 [22000/60000 (37%)] \t1.509062\n",
      "Train Epoch: 9 [24000/60000 (40%)] \t1.523619\n",
      "Train Epoch: 9 [26000/60000 (43%)] \t1.518104\n",
      "Train Epoch: 9 [28000/60000 (47%)] \t1.524709\n",
      "Train Epoch: 9 [30000/60000 (50%)] \t1.519795\n",
      "Train Epoch: 9 [32000/60000 (53%)] \t1.521694\n",
      "Train Epoch: 9 [34000/60000 (57%)] \t1.570314\n",
      "Train Epoch: 9 [36000/60000 (60%)] \t1.525830\n",
      "Train Epoch: 9 [38000/60000 (63%)] \t1.526286\n",
      "Train Epoch: 9 [40000/60000 (67%)] \t1.544315\n",
      "Train Epoch: 9 [42000/60000 (70%)] \t1.559133\n",
      "Train Epoch: 9 [44000/60000 (73%)] \t1.541459\n",
      "Train Epoch: 9 [46000/60000 (77%)] \t1.559404\n",
      "Train Epoch: 9 [48000/60000 (80%)] \t1.510487\n",
      "Train Epoch: 9 [50000/60000 (83%)] \t1.506409\n",
      "Train Epoch: 9 [52000/60000 (87%)] \t1.537658\n",
      "Train Epoch: 9 [54000/60000 (90%)] \t1.580416\n",
      "Train Epoch: 9 [56000/60000 (93%)] \t1.470335\n",
      "Train Epoch: 9 [58000/60000 (97%)] \t1.538068\n",
      "\n",
      "Test set: Average loss: 0.0149, Accuracy: 9683/10000 (97%)\n",
      "\n",
      "Train Epoch: 10 [0/60000 (0%)] \t1.555811\n",
      "Train Epoch: 10 [2000/60000 (3%)] \t1.534926\n",
      "Train Epoch: 10 [4000/60000 (7%)] \t1.533834\n",
      "Train Epoch: 10 [6000/60000 (10%)] \t1.534642\n",
      "Train Epoch: 10 [8000/60000 (13%)] \t1.485762\n",
      "Train Epoch: 10 [10000/60000 (17%)] \t1.525628\n",
      "Train Epoch: 10 [12000/60000 (20%)] \t1.544735\n",
      "Train Epoch: 10 [14000/60000 (23%)] \t1.522586\n",
      "Train Epoch: 10 [16000/60000 (27%)] \t1.511963\n",
      "Train Epoch: 10 [18000/60000 (30%)] \t1.507475\n",
      "Train Epoch: 10 [20000/60000 (33%)] \t1.535849\n",
      "Train Epoch: 10 [22000/60000 (37%)] \t1.500841\n",
      "Train Epoch: 10 [24000/60000 (40%)] \t1.525923\n",
      "Train Epoch: 10 [26000/60000 (43%)] \t1.540305\n",
      "Train Epoch: 10 [28000/60000 (47%)] \t1.539734\n",
      "Train Epoch: 10 [30000/60000 (50%)] \t1.490836\n",
      "Train Epoch: 10 [32000/60000 (53%)] \t1.553550\n",
      "Train Epoch: 10 [34000/60000 (57%)] \t1.557016\n",
      "Train Epoch: 10 [36000/60000 (60%)] \t1.554766\n",
      "Train Epoch: 10 [38000/60000 (63%)] \t1.500037\n",
      "Train Epoch: 10 [40000/60000 (67%)] \t1.542283\n",
      "Train Epoch: 10 [42000/60000 (70%)] \t1.517904\n",
      "Train Epoch: 10 [44000/60000 (73%)] \t1.559160\n",
      "Train Epoch: 10 [46000/60000 (77%)] \t1.516554\n",
      "Train Epoch: 10 [48000/60000 (80%)] \t1.485520\n",
      "Train Epoch: 10 [50000/60000 (83%)] \t1.505785\n",
      "Train Epoch: 10 [52000/60000 (87%)] \t1.521821\n",
      "Train Epoch: 10 [54000/60000 (90%)] \t1.517237\n",
      "Train Epoch: 10 [56000/60000 (93%)] \t1.532093\n",
      "Train Epoch: 10 [58000/60000 (97%)] \t1.506079\n",
      "\n",
      "Test set: Average loss: 0.0149, Accuracy: 9718/10000 (97%)\n",
      "\n"
     ]
    }
   ],
   "source": [
    "for epoch in range(1, 11):\n",
    "    train(epoch)\n",
    "    test()"
   ]
  },
  {
   "cell_type": "code",
   "execution_count": 18,
   "metadata": {},
   "outputs": [
    {
     "name": "stderr",
     "output_type": "stream",
     "text": [
      "C:\\Users\\ZONE\\AppData\\Local\\Temp\\ipykernel_4144\\3850629177.py:25: UserWarning: Implicit dimension choice for softmax has been deprecated. Change the call to include dim=X as an argument.\n",
      "  return F.softmax(x)\n"
     ]
    },
    {
     "name": "stdout",
     "output_type": "stream",
     "text": [
      "Prediction: 7\n"
     ]
    },
    {
     "data": {
      "image/png": "[encoded data removed]",
      "text/plain": [
       "<Figure size 640x480 with 1 Axes>"
      ]
     },
     "metadata": {},
     "output_type": "display_data"
    }
   ],
   "source": [
    "# Visualizing the Results\n",
    "\n",
    "import matplotlib.pyplot as plt\n",
    "\n",
    "model.eval()\n",
    "\n",
    "data, target= test_data[0]\n",
    "\n",
    "data= data.unsqueeze(0).to(device)\n",
    "\n",
    "output= model(data)\n",
    "\n",
    "prediction= output.argmax(dim=1, keepdim=True).item()\n",
    "\n",
    "print(f'Prediction: {prediction}')\n",
    "\n",
    "image= data.squeeze(0).squeeze(0).cpu().numpy()\n",
    "\n",
    "plt.imshow(image, cmap='gray')\n",
    "plt.show()\n"
   ]
  },
  {
   "cell_type": "code",
   "execution_count": 19,
   "metadata": {},
   "outputs": [
    {
     "name": "stderr",
     "output_type": "stream",
     "text": [
      "C:\\Users\\ZONE\\AppData\\Local\\Temp\\ipykernel_4144\\3850629177.py:25: UserWarning: Implicit dimension choice for softmax has been deprecated. Change the call to include dim=X as an argument.\n",
      "  return F.softmax(x)\n"
     ]
    },
    {
     "name": "stdout",
     "output_type": "stream",
     "text": [
      "Prediction: 2\n"
     ]
    },
    {
     "data": {
      "image/png": "[encoded data removed]",
      "text/plain": [
       "<Figure size 640x480 with 1 Axes>"
      ]
     },
     "metadata": {},
     "output_type": "display_data"
    }
   ],
   "source": [
    "import matplotlib.pyplot as plt\n",
    "\n",
    "model.eval()\n",
    "\n",
    "data, target= test_data[1]\n",
    "\n",
    "data= data.unsqueeze(0).to(device)\n",
    "\n",
    "output= model(data)\n",
    "\n",
    "prediction= output.argmax(dim=1, keepdim=True).item()\n",
    "\n",
    "print(f'Prediction: {prediction}')\n",
    "\n",
    "image= data.squeeze(0).squeeze(0).cpu().numpy()\n",
    "\n",
    "plt.imshow(image, cmap='gray')\n",
    "plt.show()\n"
   ]
  },
  {
   "cell_type": "code",
   "execution_count": 20,
   "metadata": {},
   "outputs": [
    {
     "name": "stderr",
     "output_type": "stream",
     "text": [
      "C:\\Users\\ZONE\\AppData\\Local\\Temp\\ipykernel_4144\\3850629177.py:25: UserWarning: Implicit dimension choice for softmax has been deprecated. Change the call to include dim=X as an argument.\n",
      "  return F.softmax(x)\n"
     ]
    },
    {
     "name": "stdout",
     "output_type": "stream",
     "text": [
      "Prediction: 1\n"
     ]
    },
    {
     "data": {
      "image/png": "[encoded data removed]",
      "text/plain": [
       "<Figure size 640x480 with 1 Axes>"
      ]
     },
     "metadata": {},
     "output_type": "display_data"
    }
   ],
   "source": [
    "import matplotlib.pyplot as plt\n",
    "\n",
    "model.eval()\n",
    "\n",
    "data, target= test_data[2]\n",
    "\n",
    "data= data.unsqueeze(0).to(device)\n",
    "\n",
    "output= model(data)\n",
    "\n",
    "prediction= output.argmax(dim=1, keepdim=True).item()\n",
    "\n",
    "print(f'Prediction: {prediction}')\n",
    "\n",
    "image= data.squeeze(0).squeeze(0).cpu().numpy()\n",
    "\n",
    "plt.imshow(image, cmap='gray')\n",
    "plt.show()\n"
   ]
  },
  {
   "cell_type": "code",
   "execution_count": 21,
   "metadata": {},
   "outputs": [
    {
     "name": "stderr",
     "output_type": "stream",
     "text": [
      "C:\\Users\\ZONE\\AppData\\Local\\Temp\\ipykernel_4144\\3850629177.py:25: UserWarning: Implicit dimension choice for softmax has been deprecated. Change the call to include dim=X as an argument.\n",
      "  return F.softmax(x)\n"
     ]
    },
    {
     "name": "stdout",
     "output_type": "stream",
     "text": [
      "Prediction: 0\n"
     ]
    },
    {
     "data": {
      "image/png": "[encoded data removed]",
      "text/plain": [
       "<Figure size 640x480 with 1 Axes>"
      ]
     },
     "metadata": {},
     "output_type": "display_data"
    }
   ],
   "source": [
    "import matplotlib.pyplot as plt\n",
    "\n",
    "model.eval()\n",
    "\n",
    "data, target= test_data[3]\n",
    "\n",
    "data= data.unsqueeze(0).to(device)\n",
    "\n",
    "output= model(data)\n",
    "\n",
    "prediction= output.argmax(dim=1, keepdim=True).item()\n",
    "\n",
    "print(f'Prediction: {prediction}')\n",
    "\n",
    "image= data.squeeze(0).squeeze(0).cpu().numpy()\n",
    "\n",
    "plt.imshow(image, cmap='gray')\n",
    "plt.show()\n"
   ]
  },
  {
   "cell_type": "code",
   "execution_count": null,
   "metadata": {},
   "outputs": [],
   "source": []
  }
 ],
 "metadata": {
  "kernelspec": {
   "display_name": "python_pro",
   "language": "python",
   "name": "python3"
  },
  "language_info": {
   "codemirror_mode": {
    "name": "ipython",
    "version": 3
   },
   "file_extension": ".py",
   "mimetype": "text/x-python",
   "name": "python",
   "nbconvert_exporter": "python",
   "pygments_lexer": "ipython3",
   "version": "3.12.9"
  }
 },
 "nbformat": 4,
 "nbformat_minor": 2
}
